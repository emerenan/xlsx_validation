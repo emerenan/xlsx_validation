{
  "nbformat": 4,
  "nbformat_minor": 0,
  "metadata": {
    "colab": {
      "name": "gr_validations.ipynb",
      "provenance": [],
      "collapsed_sections": [],
      "authorship_tag": "ABX9TyMw4m61oSb0ULYRuOJSaNw/"
    },
    "kernelspec": {
      "display_name": "Python 3",
      "name": "python3"
    },
    "language_info": {
      "name": "python"
    }
  },
  "cells": [
    {
      "cell_type": "code",
      "metadata": {
        "id": "WElA0gjZWaaE"
      },
      "source": [
        "import pandas as pd\n",
        "import numpy as np\n",
        "import datetime as dt\n",
        "from datetime import datetime\n",
        "import re\n",
        "from openpyxl import Workbook, styles\n",
        "from openpyxl.styles import PatternFill, Font\n",
        "from openpyxl.styles.differential import DifferentialStyle\n",
        "from openpyxl.formatting.rule import Rule\n",
        "\n",
        "def lower_str(columns):\n",
        "    newlist = list(map(lambda x: x.lower(), columns))\n",
        "    return newlist\n",
        "\n",
        "def check_bts(df_tw, bts_tw_columns, tw_index, status_col, df_msa, bts_msa_column, msa_index):\n",
        "    #Nested Function to make conditional validations\n",
        "    def cond_bts_check(bts_msa, tw_bts_sites):\n",
        "        bts_out_tw=[]\n",
        "        if sorted(bts_msa) != sorted(tw_bts_sites):\n",
        "            for i in tw_bts_sites:\n",
        "                if i not in bts_msa:\n",
        "                    bts_out_tw.append(i)\n",
        "\n",
        "        return bts_out_tw\n",
        "\n",
        "    bts_msa = msa[msa[bts_msa_column]=='Yes']\n",
        "    bts_msa = [str(i) for i in bts_msa[msa_index]]\n",
        "\n",
        "    tw_bts_sites = df_tw[df_tw[bts_tw_columns]=='Yes']\n",
        "    tw_bts_sites = [str(i) for i in tw_bts_sites[tw_index]]\n",
        "\n",
        "    #return of datas\n",
        "    filtered = df_tw[[tw_index, status_col]]\n",
        "    bts_out_tw = cond_bts_check(bts_msa, tw_bts_sites)\n",
        "    df = pd.DataFrame(bts_out_tw, columns=['New Sites'])\n",
        "    df = pd.merge(df, filtered, how='left', left_on=['New Sites'], right_on=tw_index)\n",
        "    df = df[['Bts_Sites_Out_UIS_File', status_col]]\n",
        "    return df\n",
        "\n",
        "def check_wip(df_tw,tw_index, wip_tw, tw_bts, df_msa, msa_index, wip_msa_col):\n",
        "\n",
        "    #Nested Function to make conditional validations\n",
        "    def cond_wip_check(wip_msa, tw_wip_sites):\n",
        "        count_wip = 0\n",
        "        wip_out_tw=[]\n",
        "        if sorted(wip_msa) != sorted(tw_wip_sites):\n",
        "            for i in tw_wip_sites:\n",
        "                if i not in wip_msa:\n",
        "                    count_wip += 1\n",
        "                    wip_out_tw.append(i)\n",
        "\n",
        "        return wip_out_tw\n",
        "\n",
        "    wip_msa = df_msa[df_msa[wip_msa_col]=='Yes']\n",
        "    wip_msa = [str(i) for i in wip_msa[msa_index]]\n",
        "\n",
        "    tw_wip_sites = df_tw[df_tw[wip_tw]=='Yes']\n",
        "    tw_wip_sites = [str(i) for i in tw_wip_sites[tw_index]]\n",
        "\n",
        "    tw_wip_site_bts_flagged = df_tw[(df_tw[wip_tw]=='Yes')&(df_tw[tw_bts]=='Yes')]\n",
        "    tw_wip_site_bts_flagged = tw_wip_site_bts_flagged[[tw_index, wip_tw, tw_bts]]\n",
        "\n",
        "    wip_out_tw_list = cond_wip_check(wip_msa, tw_wip_sites)\n",
        "    return wip_out_tw_list, tw_wip_site_bts_flagged\n",
        "    \"\"\"Reestrurar os script em PT, DE, CZ\"\"\"\n",
        "    # Falta os outros países\n"
      ],
      "execution_count": 1,
      "outputs": []
    },
    {
      "cell_type": "markdown",
      "metadata": {
        "id": "nisnh2VBTgXh"
      },
      "source": [
        "## Reading Excel File"
      ]
    },
    {
      "cell_type": "code",
      "metadata": {
        "id": "_Kv1nEVyTi2R"
      },
      "source": [
        "import pandas as pd \n",
        "import numpy as np\n",
        "import re\n",
        "def new_format(df, bts_col):\n",
        "    new_format = []\n",
        "    for i in df[bts_col]:\n",
        "        if i == 'BTS':\n",
        "            new_format.append('Yes')\n",
        "        elif i == 'Legacy':\n",
        "            new_format.append('No')\n",
        "        else:\n",
        "            new_format.append('')\n",
        "    return new_format\n",
        "\n",
        "def read_files(path, sheetname, n_skiprows, n_skip_columns, site_index, date_cols):\n",
        "    import pandas as pd\n",
        "    import numpy as np\n",
        "\n",
        "    def lower_str(columns):\n",
        "        newlist = list(map(lambda x: x.lower(), columns))\n",
        "        return newlist\n",
        "\n",
        "    df = pd.read_excel(path, sheet_name = sheetname, skiprows = n_skiprows)\n",
        "\n",
        "    df = df.iloc[:,n_skip_columns:]\n",
        "    df = df.dropna(subset=[site_index], axis=0)\n",
        "    df.columns = lower_str(list(df.columns))\n",
        "    \n",
        "    #Create empty columns\n",
        "    for i in range(1, 19):\n",
        "        df[f'column{i}'] = [np.nan for i in range(df.shape[0])]\n",
        "    \n",
        "    # Parsing Dates\n",
        "    for date_col in date_cols:\n",
        "        lista = []\n",
        "        df[date_col] = df[date_col].replace([' '], '')\n",
        "        df[date_col] = df[date_col].fillna('')\n",
        "        for i in df[date_col]:\n",
        "            dates_format = re.search(r'\\d+(/|-){2}\\/\\d+(/|-){2}\\/\\d+(/|-){4}', str(i))\n",
        "            not_date_format = not re.search(r'\\d+(/|-){2}\\/\\d+(/|-){2}\\/\\d+(/|-){4}', str(i))\n",
        "            if i !='' and not_date_format:\n",
        "                #print(towerdb[towerdb[date_col]==i][['identification - site key', date_col]])\n",
        "                lista.append(f'{i:%d/%m/%Y}')\n",
        "            \n",
        "            elif dates_format:\n",
        "                lista.append(i)\n",
        "            else:\n",
        "                lista.append('')\n",
        "        df[date_col] = lista\n",
        "\n",
        "    return df\n",
        "\n",
        "\"\"\"Defining variables which is gonna be reusable in checks\"\"\"\n",
        "tw_index = \"identification - site key\"\n",
        "tw_doer_vf = 'msa - date of equipment removal (vf)'\n",
        "tw_doer_wh = 'msa - date of equipment removal (wh)'\n",
        "tw_status = 'other - status'\n",
        "tw_bts = 'flag indicating bts site'\n",
        "tw_bill = 'msa - billing trigger date'\n",
        "\"\"\"tw_wip isn't have in GR so, billing trigger date should be in future\"\"\"\n",
        "tw_decom = 'msa - date of decommissioning'\n",
        "tw_amount = 'lease contract - current annual lease fee'\n",
        "tw_critical = 'msa - critical site in excess of the 15.5% cap'\n",
        "\n",
        "msa_index = 'identification - site key'\n",
        "msa_bts = 'flag indicating bts site'\n",
        "msa_doer_vf = 'msa - date of equipment removal (vf)'\n",
        "msa_doer_wh = 'msa - date of equipment removal (wh)'\n",
        "msa_status = 'Other - Status'\n",
        "msa_bill = 'msa - billing trigger date'\n",
        "#tw_wip isn't have in GR so, billing trigger date should be in future\n",
        "msa_decom = 'msa - date of decommissioning'\n",
        "msa_amount = 'lease contract - current annual lease fee'\n",
        "msa_critical = 'msa - critical site in excess of the 15.5% cap'\n",
        "\n",
        "guideline = [\"towerdb owner\", \"identification - site key\", \"identification - code\", \"identification - fl\",\\\n",
        "             \"position - site name\", \"identification - other mno fl\", \"position - macro region\", \\\n",
        "             \"position - region\", \"position - municipality\", \"position - address\", \"position - latitude\", \\\n",
        "             \"position - longitude\", \"category - categorization by transmission sys (subcluster)\", \\\n",
        "             \"category - categorization by site type\", \"column1\", \"category - categorisation by inhabitants\", \\\n",
        "             \"other - ownership\", \"other - status\", \"column2\", \"column3\", \"column4\", \"column5\", \"column6\", \\\n",
        "             \"column7\", \"column8\", \"column9\", \"column10\", \"lease contract - current annual lease fee\", \\\n",
        "             \"lease contract - lease contract comment\", \"column11\", \"column12\", \"column13\", \"column14\", \\\n",
        "             \"tenants - anchor\", \"tenants - vf - ran sharing\", \"tenants - vf - passive\", \\\n",
        "             \"tenants - wind - ran sharing\", \"tenants - wind - passive\", \"tenants - cosmote - passive\", \\\n",
        "             \"tenants - ran sharing tenants\", \"tenants - passive tenants\", \"tenants - non-mno tenants\", \\\n",
        "             \"tenants - non-mno tenant name\", \"tenants - total tenants\", \"column15\", \\\n",
        "             \"ee - no. of 24hr generators\", \"ee - no. of standby generators\", \"kpi - sites\", \"kpi - tenants\", \\\n",
        "             \"msa - bts/replacement\", \"msa - bts commitment site\", \"column16\", \\\n",
        "             \"infrastructure type - technology\", \"infrastructure type - fibre / microwave\", \\\n",
        "             \"infrastructure type - floor space\", \"infrastructure type - tower height\", \"column17\",\\\n",
        "             \"notified-97 (gr use only)\", \"changes (gr use only)\", \"msa - billing trigger stop date\", \\\n",
        "             \"other - indoor vs outdoor\", \"skylon - category\", \"msa - standard configuration\", \\\n",
        "             \"msa - construction type\", \"msa - hub sites total mw diameter\", \"bp - consolidated classification\",\\\n",
        "             \"msa - critical site\", \"sensitive - due to\", \"sensitive - description\", \"sensitive - department\", \\\n",
        "             \"notified - department\", \"notified - due to\", \"msa - sensitive\", \"msa - notified\", \\\n",
        "             \"notified - status\", \"notified - details\", \"msa - rectifier\", \"msa - battery\", \"msa - aircon\", \\\n",
        "             \"msa - revenue generating\", \"msa - date of decommissioning\", \"flag indicating bts site\",\\\n",
        "             \"msa - billing trigger date\", \"msa - dg-shelter\", \"msa - critical site in excess of the 15.5% cap\",\\\n",
        "             \"msa - form of active sharing\", \"msa - start date for active sharing arrangement\",\\\n",
        "             \"msa - end date for active sharing arrangement\", \"column18\", \"msa - rfai date\", \\\n",
        "             \"msa - site acceptance date\", \"msa - sub-lease reason\", \"msa - sub-lease applies\", \\\n",
        "             \"msa - date of equipment removal (vf)\", \"msa - date of equipment removal (wh)\"]\n",
        "guideline = list(map(lambda x: re.sub(r'^\\s+|\\s+$', '', str(x.lower())), guideline))\n",
        "\n",
        "date_columns = ['msa - start date for active sharing arrangement', 'msa - rfai date', 'msa - site acceptance date', 'msa - billing trigger date', \n",
        "            'msa - date of decommissioning', 'msa - date of equipment removal (vf)', 'msa - date of equipment removal (wh)', 'msa - billing trigger stop date',\n",
        "            'msa - end date for active sharing arrangement']\n",
        "\n",
        "path_tw = \"/content/GR_TowerDB Jun'21 FINAL (Billing version).xlsx\"\n",
        "sheet_tw = 'GR_TowerDB'\n",
        "towerdb = read_files(path_tw, sheet_tw, 0, 0, 'Identification - Site Key', date_columns)\n",
        "\n",
        "towerdb.rename(columns={'msa - legacy/bts': \"flag indicating bts site\"}, inplace=True)\n",
        "\n",
        "towerdb.columns = list(map(lambda x: re.sub(r'^\\s+|\\s+$', '', str(x.lower())), towerdb.columns.to_list()))\n",
        "towerdb = towerdb[guideline]\n",
        "towerdb['tenants - non-mno tenants'] = [int(i) if not pd.isnull(i) else '' for i in towerdb['tenants - non-mno tenants']]\n",
        "\n",
        "towerdb[tw_bts] = new_format(towerdb, tw_bts)\n",
        "\n",
        "towerdb.to_csv('/content/TowerDB_Greece_20210831.csv', index=False, encoding='iso-8859-1', errors='replace')\n",
        "\n",
        "towerdb.head(3)\n"
      ],
      "execution_count": null,
      "outputs": []
    },
    {
      "cell_type": "code",
      "metadata": {
        "id": "Q-CPyaIX91Pq"
      },
      "source": [
        "towerdb['flag indicating bts site']"
      ],
      "execution_count": null,
      "outputs": []
    },
    {
      "cell_type": "markdown",
      "metadata": {
        "id": "HHZpkm8tT9Pg"
      },
      "source": [
        "Csv(in month and true up) read\n"
      ]
    },
    {
      "cell_type": "code",
      "metadata": {
        "id": "_8KzPSagUEwK"
      },
      "source": [
        "from unidecode import unidecode\n",
        "path_in_month = '/content/TowerDB_Greece_20210731.csv'\n",
        "past_tw = pd.read_csv(path_in_month, engine='python').fillna('')\n",
        "past_tw.columns = lower_str(list(past_tw.columns))\n",
        "#towerdb = towerdb.reindex(columns = lower_str(col_order))\n",
        "past_tw['identification - site key'] = past_tw['identification - site key'].apply(unidecode)"
      ],
      "execution_count": null,
      "outputs": []
    },
    {
      "cell_type": "code",
      "metadata": {
        "id": "tsZxVhNQZBbC",
        "colab": {
          "base_uri": "https://localhost:8080/",
          "height": 65
        },
        "outputId": "7a7e068a-ed01-4ed6-e2fc-4e0c11077a97"
      },
      "source": [
        "def check_columns_received(df, bill_cols):\n",
        "    twdb_col = lower_str(list(df.columns))\n",
        "    col_miss = [i for i in bill_cols if i not in twdb_col]\n",
        "    \"\"\"\n",
        "    for i in bill_cols:\n",
        "        if i not in twdb_col:\n",
        "            col_miss.append(i)\"\"\"\n",
        "    df_col_missing = pd.DataFrame(col_miss, columns=['Column(s) Missing'], index=range(len(col_miss)))\n",
        "    return df_col_missing\n",
        "\n",
        "!pip install unidecode\n",
        "from unidecode import unidecode\n",
        "path_msa = '/content/TowerDB_Greece_20210731.csv'\n",
        "msa = pd.read_csv(path_msa, engine='python',encoding='latin1')\n",
        "msa.columns = lower_str(list(msa.columns))\n",
        "msa['identification - site key'] = msa['identification - site key'].apply(unidecode)\n",
        "\"\"\"Fazer a organização das colunas somente com o ficheiro correto\"\"\"\n",
        "\"\"\"Check Columns Received\"\"\"\n",
        "df_cols = check_columns_received(towerdb,list(msa.columns))\n",
        "df_cols"
      ],
      "execution_count": null,
      "outputs": [
        {
          "output_type": "stream",
          "text": [
            "Requirement already satisfied: unidecode in /usr/local/lib/python3.7/dist-packages (1.2.0)\n"
          ],
          "name": "stdout"
        },
        {
          "output_type": "execute_result",
          "data": {
            "text/html": [
              "<div>\n",
              "<style scoped>\n",
              "    .dataframe tbody tr th:only-of-type {\n",
              "        vertical-align: middle;\n",
              "    }\n",
              "\n",
              "    .dataframe tbody tr th {\n",
              "        vertical-align: top;\n",
              "    }\n",
              "\n",
              "    .dataframe thead th {\n",
              "        text-align: right;\n",
              "    }\n",
              "</style>\n",
              "<table border=\"1\" class=\"dataframe\">\n",
              "  <thead>\n",
              "    <tr style=\"text-align: right;\">\n",
              "      <th></th>\n",
              "      <th>Column(s) Missing</th>\n",
              "    </tr>\n",
              "  </thead>\n",
              "  <tbody>\n",
              "  </tbody>\n",
              "</table>\n",
              "</div>"
            ],
            "text/plain": [
              "Empty DataFrame\n",
              "Columns: [Column(s) Missing]\n",
              "Index: []"
            ]
          },
          "metadata": {
            "tags": []
          },
          "execution_count": 5
        }
      ]
    },
    {
      "cell_type": "markdown",
      "metadata": {
        "id": "Ou27hRQ0LNDJ"
      },
      "source": [
        "Check columns received looking for missing columns that is gonna be used in rating engine"
      ]
    },
    {
      "cell_type": "markdown",
      "metadata": {
        "id": "2PWcoSWU60Z-"
      },
      "source": [
        "Finding ? in site ID, if find change to A"
      ]
    },
    {
      "cell_type": "code",
      "metadata": {
        "id": "qMBRjWgO6zwb"
      },
      "source": [
        "def replace_id(df, col_find, find_value, replace_to):\n",
        "    lista = [re.sub(f'[{find_value}]',replace_to, str(x)) for x in df[col_find]]\n",
        "    return lista\n",
        "\n",
        "towerdb[tw_index] = replace_id(towerdb, tw_index.lower(), '?', 'A')\n"
      ],
      "execution_count": null,
      "outputs": []
    },
    {
      "cell_type": "markdown",
      "metadata": {
        "id": "VCkGz4T96CDM"
      },
      "source": [
        "Aditional formating for legacy/bts sites \n",
        "ONLY xlsx File\n",
        "\n",
        "Legacy to No\n",
        "\n",
        "BTS to Yes"
      ]
    },
    {
      "cell_type": "markdown",
      "metadata": {
        "id": "cbNJS8mYnIvg"
      },
      "source": [
        "First Check - Dates Formats (dd/mm/YYYY) \n",
        "\n",
        "Columns: Billing trigger & DOER\n"
      ]
    },
    {
      "cell_type": "code",
      "metadata": {
        "id": "bCI22E3Unc9Z"
      },
      "source": [
        "\"\"\"Verify before, cause you need to convert all values in cols for string format to check\"\"\"\n",
        "def check_date_columns(df, df_index,status_col,columns):\n",
        "    \"\"\"\n",
        "    Paramns \\n\n",
        "        Dates needs to be in string format not in datetime, otherwise raise an error.\\n\n",
        "        Convert entire column to string before.\n",
        "    \"\"\"\n",
        "    from collections import defaultdict\n",
        "\n",
        "    df_dates = df[columns].fillna('')\n",
        "    df_dates = df_dates.to_dict(orient='list')\n",
        "    #df_dates['sites'] = df_dates[df_index]\n",
        "    #df_dates = df_dates.set_index('sites')\n",
        "    new_dic = defaultdict(list)\n",
        "\n",
        "    date_format = re.compile(r\"[0-9]{1,2}[\\_|\\-|\\/][0-9]{1,2}[\\_|\\-|\\/][0-9]{1,4}\")\n",
        "\n",
        "    for column in set(df_dates.keys()):\n",
        "        for value in df_dates[column]:\n",
        "            if date_format.match(value) == None:\n",
        "                if value in (None, '', 'nan'):\n",
        "                    new_dic[column].append('Blank Value')\n",
        "                else:\n",
        "                    new_dic[column].append(f'Incorret picklist value: {value}')\n",
        "            else:\n",
        "                new_dic[column].append('Ok')\n",
        "\n",
        "    df_errors = pd.DataFrame(new_dic)\n",
        "    df_errors[df_index] = [i for i in df[df_index]]\n",
        "    df_errors = df_errors.replace('Ok', np.nan)   \n",
        "    df_errors = df_errors.set_index(df_index)\n",
        "    df_errors = df_errors.dropna(how='all', axis=0)\n",
        "    df_errors = df_errors.dropna(how='all', axis=1)\n",
        "    df_errors = df_errors.reset_index()\n",
        "    \n",
        "    df = df[[df_index, status_col]]\n",
        "    df_errors = pd.merge(df_errors,df, how='left', on=[df_index])\n",
        "    df_errors = df_errors.set_index(df_index)\n",
        "    df_errors = df_errors[[status_col]+ df_errors.columns[:-1].tolist()]\n",
        "    df_errors = df_errors.reset_index()\n",
        "    return df_errors\n",
        "\n",
        "# Columns to functions\n",
        "bill_col = [tw_bill]\n",
        "doer_cols = [tw_doer_vf, tw_doer_wh]\n",
        "\n",
        "\n",
        "actives = towerdb[towerdb[tw_status]=='In Service']\n",
        "no_actives = towerdb[towerdb[tw_status]=='Dismantled / Active Lease']\n",
        "\n",
        " #Checking columns for errors\n",
        "df_dates_bill_errors = check_date_columns(actives, tw_index, tw_status, bill_col)\n",
        "#NO errors\n",
        "\n",
        "df_dates_doer_errors = check_date_columns(no_actives, tw_index,tw_status, doer_cols) \n",
        "# Just Blank Values in DOER's Columns\n",
        "\n",
        "print(df_dates_bill_errors)\n",
        "print('\\n')\n",
        "print(df_dates_doer_errors)"
      ],
      "execution_count": null,
      "outputs": []
    },
    {
      "cell_type": "markdown",
      "metadata": {
        "id": "3neFPxjvrWhA"
      },
      "source": [
        "Second Check - TW Amount value General (xxx.xx)\n",
        "\n",
        "Column(s): Lease Contract - Current annual lease fee"
      ]
    },
    {
      "cell_type": "code",
      "metadata": {
        "id": "hjrxRcEhrowY"
      },
      "source": [
        "def check_amounts(df_check, df_index, status_col, columns, pattern=','):\n",
        "    \"\"\"\n",
        "    Paramns:\n",
        "    pattern: general (. to decimal), other (, to decimal)\n",
        "    \"\"\"\n",
        "\n",
        "    df = df_check[columns]\n",
        "    df['sites'] = df[df_index]\n",
        "    df = df.set_index('sites')\n",
        "\n",
        "    df_new = pd.DataFrame(columns=columns)\n",
        "    \n",
        "    df_duplicates = count_duplicates(df[df_index])\n",
        "    if not df_duplicates.empty:\n",
        "        df.drop_duplicates(subset=[df_index], inplace=True)\n",
        "    \n",
        "    filtered = df_check[[df_index, status_col]]\n",
        "\n",
        "    for site in df[df_index]:\n",
        "        for column in columns[1:]:\n",
        "            if not str(df.loc[site,column]).__contains__(pattern):\n",
        "                #print(df.loc[site,column])\n",
        "                if df.loc[site,df_index] not in df_new.index:\n",
        "                    df_new.loc[site,df_index] = df.loc[site,df_index]\n",
        "                    df_new.loc[site,column] = 'Incorret Format to separate decimal values'\n",
        "                else:\n",
        "                    df_new.loc[site,column] = 'Incorret Format to separate decimal values'\n",
        "\n",
        "    df_new = df_new.dropna(how='all', axis=1).fillna('Ok')       \n",
        "    if not df_new.empty:\n",
        "        df_new = pd.merge(df_new, filtered, how='left', left_on='identification - site key', right_on=tw_index)\n",
        "        df_new = df_new.set_index(tw_index)\n",
        "        df_new = df_new[[status_col]+ df_new.columns[:-1].tolist()]\n",
        "        #df_new = df_new[['identification - site key', status_col]]\n",
        "        return df_new\n",
        "    else: \n",
        "        print('\\nNo one columns with incorrect Amount format!\\n')\n",
        "\n",
        "amount_cols = [tw_index, tw_amount]\n",
        "df_amount_errors = check_amounts(actives, tw_index, tw_status, amount_cols,'.')\n",
        "df_amount_errors\n",
        "#No one error"
      ],
      "execution_count": null,
      "outputs": []
    },
    {
      "cell_type": "markdown",
      "metadata": {
        "id": "OOA4ST6kBBlI"
      },
      "source": [
        "Thirth - Check Picklist values\n",
        "Do this check only for sites In Service Status"
      ]
    },
    {
      "cell_type": "markdown",
      "metadata": {
        "id": "ljjGsYab6yqH"
      },
      "source": [
        "Check On Air Picklist"
      ]
    },
    {
      "cell_type": "code",
      "metadata": {
        "id": "RZhj6hEn7jSh"
      },
      "source": [
        "['DAS','Macro_3-Sector','Macro_4-sector','Outdoor Small Cell','Repeater Site','Smaller Macro Site','Transmission Hub Site_3-Sector','Transmission Hub Site_4-Sector','Transmission Site']"
      ],
      "execution_count": null,
      "outputs": []
    },
    {
      "cell_type": "code",
      "metadata": {
        "id": "XZ4stbvLu694"
      },
      "source": [
        "def check_picklist(df, df_index, df_status, picklist_dict):\n",
        "    from collections import defaultdict\n",
        "\n",
        "    df_cols = list(picklist_dict.keys())\n",
        "    df_picklist = df[df_cols].fillna('')\n",
        "    df_picklist = df_picklist.to_dict(orient='list')\n",
        "\n",
        "    new_dic = defaultdict(list)\n",
        "\n",
        "    for column in set(picklist_dict.keys()):\n",
        "        for value in df_picklist[column]:\n",
        "            if value not in set(picklist_dict[column]):\n",
        "                if pd.isnull(value) or pd.isna(value) or value == '' or value == 'nan':\n",
        "                    new_dic[column].append('Blank Value')\n",
        "                else:\n",
        "                    new_dic[column].append(f'Incorrect value: {value}')\n",
        "            else:\n",
        "                new_dic[column].append('Ok!')\n",
        "\n",
        "    df_errors = pd.DataFrame(new_dic)\n",
        "    df_errors = df_errors.replace('Ok!', np.nan)\n",
        "    df_errors[df_index] = [i for i in df[df_index]]\n",
        "    df_errors = df_errors.set_index(df_index)\n",
        "    df_errors = df_errors.dropna(how='all', axis=0)\n",
        "    df_errors = df_errors.dropna(how='all', axis=1)\n",
        "    df_errors = df_errors.reset_index()\n",
        "\n",
        "    df = df[[df_index, df_status]]\n",
        "    df_errors = pd.merge(df_errors, df, how='left', on=[df_index], suffixes=('_checked', '_actual'))\n",
        "    cols = list(df_errors.columns)\n",
        "    if df_status + '_actual' in cols:\n",
        "        df_errors = df_errors.set_index([df_index, df_status + '_actual'])\n",
        "    else:\n",
        "        df_errors = df_errors.set_index([df_index])\n",
        "        df_errors = df_errors[[df_status] + df_errors.columns[:-1].tolist()]\n",
        "    df_errors = df_errors.reset_index()\n",
        "    return df_errors\n",
        "      \n",
        "picklist_tw = {\n",
        "    'towerdb owner' : ['Vodafone','Wind'],\n",
        "    'category - categorisation by inhabitants': ['Heavy Urban','Urban','Rural','Suburban'],\n",
        "    'other - ownership': ['Collocation_VF_Own','Collocation_WH_Own','Shared_VF_Own','Shared_WH_Own','Standalone'],\n",
        "    'tenants - vf - passive': [0, 1],\n",
        "    'tenants - wind - passive': [0, 1],\n",
        "    'tenants - cosmote - passive': [0, 1],\n",
        "    'other - indoor vs outdoor': ['Indoor','Outdoor','N/A - No Active Equipment'],\n",
        "    'msa - standard configuration': ['DAS','Macro_3-Sector','Macro_4-sector','Outdoor Small Cell','Repeater Site','Smaller Macro Site',\\\n",
        "                                     'Transmission Hub Site_3-Sector','Transmission Hub Site_4-Sector','Transmission Site'],\n",
        "    'msa - construction type': ['DAS','Rooftop','Greenfield'],\n",
        "    'bp - consolidated classification': ['GBT','RTT','Transmission Site','Special',\\\n",
        "                                         'Smaller Macro Site','Outdoor Small Cell'],\n",
        "    'msa - critical site': ['Yes', 'No'],\n",
        "    'msa - rectifier': ['Yes', 'No'],\n",
        "    'msa - battery': ['Yes', 'No'],\n",
        "    'msa - aircon': ['No', 'Yes'],\n",
        "    'msa - revenue generating': [0 , 1],\n",
        "    'flag indicating bts site': ['Yes', 'No'],\n",
        "    'msa - dg-shelter': ['Yes', 'No'],\n",
        "    'msa - critical site in excess of the 15.5% cap': ['Yes', 'No'],\n",
        "    'msa - form of active sharing' : ['MORAN', 'MOCN with spectrum pooling'],\n",
        "    'msa - sub-lease applies': ['Yes', 'No']}\n",
        "\n",
        "actives_1 = towerdb[towerdb[tw_status]=='In Service']\n",
        "df_picklist = check_picklist(actives_1, tw_index, tw_status, picklist_tw)\n",
        "df_picklist\n",
        "#No Erros"
      ],
      "execution_count": null,
      "outputs": []
    },
    {
      "cell_type": "markdown",
      "metadata": {
        "id": "kJPGS-Y4616j"
      },
      "source": [
        "Check General Picklist"
      ]
    },
    {
      "cell_type": "code",
      "metadata": {
        "id": "tbbSNoXcp-kB",
        "colab": {
          "base_uri": "https://localhost:8080/",
          "height": 320
        },
        "outputId": "15f03300-5cd5-440e-b799-074b54d94928"
      },
      "source": [
        "general_pick = {\n",
        "    'towerdb owner' : ['Vodafone','Wind'],\n",
        "    'category - categorisation by inhabitants': ['Heavy Urban','Urban','Rural']}\n",
        "general_picklist_cols = ['Identification - Site Key', 'TowerDB owner','Category - Categorisation by inhabitants']\n",
        "df_picklist_general = check_picklist_v1(towerdb, tw_index,tw_status, lower_str(general_picklist_cols), general_pick)\n",
        "df_picklist_general\n",
        "#Error blank values"
      ],
      "execution_count": null,
      "outputs": [
        {
          "output_type": "execute_result",
          "data": {
            "text/html": [
              "<div>\n",
              "<style scoped>\n",
              "    .dataframe tbody tr th:only-of-type {\n",
              "        vertical-align: middle;\n",
              "    }\n",
              "\n",
              "    .dataframe tbody tr th {\n",
              "        vertical-align: top;\n",
              "    }\n",
              "\n",
              "    .dataframe thead th {\n",
              "        text-align: right;\n",
              "    }\n",
              "</style>\n",
              "<table border=\"1\" class=\"dataframe\">\n",
              "  <thead>\n",
              "    <tr style=\"text-align: right;\">\n",
              "      <th></th>\n",
              "      <th>other - status</th>\n",
              "      <th>category - categorisation by inhabitants</th>\n",
              "    </tr>\n",
              "    <tr>\n",
              "      <th>identification - site key</th>\n",
              "      <th></th>\n",
              "      <th></th>\n",
              "    </tr>\n",
              "  </thead>\n",
              "  <tbody>\n",
              "    <tr>\n",
              "      <th>3493-3025704</th>\n",
              "      <td>Planned</td>\n",
              "      <td>Blank Value</td>\n",
              "    </tr>\n",
              "    <tr>\n",
              "      <th>5171-3025847</th>\n",
              "      <td>Planned</td>\n",
              "      <td>Blank Value</td>\n",
              "    </tr>\n",
              "    <tr>\n",
              "      <th>5790-3025310</th>\n",
              "      <td>Planned</td>\n",
              "      <td>Blank Value</td>\n",
              "    </tr>\n",
              "    <tr>\n",
              "      <th>5930-3024562</th>\n",
              "      <td>Planned</td>\n",
              "      <td>Blank Value</td>\n",
              "    </tr>\n",
              "    <tr>\n",
              "      <th>90117-A11701</th>\n",
              "      <td>Planned</td>\n",
              "      <td>Blank Value</td>\n",
              "    </tr>\n",
              "    <tr>\n",
              "      <th>90843-A84301</th>\n",
              "      <td>Planned</td>\n",
              "      <td>Blank Value</td>\n",
              "    </tr>\n",
              "    <tr>\n",
              "      <th>91260-D26001</th>\n",
              "      <td>Planned</td>\n",
              "      <td>Blank Value</td>\n",
              "    </tr>\n",
              "    <tr>\n",
              "      <th>9522-952202</th>\n",
              "      <td>Planned</td>\n",
              "      <td>Blank Value</td>\n",
              "    </tr>\n",
              "  </tbody>\n",
              "</table>\n",
              "</div>"
            ],
            "text/plain": [
              "                          other - status category - categorisation by inhabitants\n",
              "identification - site key                                                        \n",
              "3493-3025704                     Planned                              Blank Value\n",
              "5171-3025847                     Planned                              Blank Value\n",
              "5790-3025310                     Planned                              Blank Value\n",
              "5930-3024562                     Planned                              Blank Value\n",
              "90117-A11701                     Planned                              Blank Value\n",
              "90843-A84301                     Planned                              Blank Value\n",
              "91260-D26001                     Planned                              Blank Value\n",
              "9522-952202                      Planned                              Blank Value"
            ]
          },
          "metadata": {
            "tags": []
          },
          "execution_count": 9
        }
      ]
    },
    {
      "cell_type": "markdown",
      "metadata": {
        "id": "oWzjva6JAMoL"
      },
      "source": [
        "Fourth Check - Remove \"N/A\", \"0\" or \"-\" values\n"
      ]
    },
    {
      "cell_type": "markdown",
      "metadata": {
        "id": "EYoShmlRMTv0"
      },
      "source": [
        "Fifth Check MoM Sites (BTS, decomissoned...)\n"
      ]
    },
    {
      "cell_type": "code",
      "metadata": {
        "colab": {
          "base_uri": "https://localhost:8080/"
        },
        "id": "dVzDPUxiL8Wa",
        "outputId": "07418cde-166c-4a1e-d911-9aaf5e9ff7d3"
      },
      "source": [
        "\"\"\"Falta Coluna de Flag Indicating BTS Site no twerdb recebido\"\"\"\n",
        "def check_mom_bts(df_tw, tw_index,status_col, tw_col, df_msa, msa_index, msa_col):\n",
        "    #c = country   \n",
        "    msa_bts_sites = [i for i in df_msa[df_msa[msa_bts]=='Yes'][msa_index]]\n",
        "\n",
        "    tw_bts_sites = [i for i in df_tw[df_tw[df_bts]=='Yes'][tw_index]]\n",
        "\n",
        "    out_tower_bts = [i for i in msa_bts_sites if i not in tw_bts_sites]\n",
        "\n",
        "    filtered = df_msa.loc[df_msa[tw_index].isin(out_tower_bts)]\n",
        "\n",
        "    return filtered[[tw_index,status_col, df_bts]]  \n",
        "\n",
        "df_mom_bts = check_mom_bts(actives, tw_index, tw_status, tw_bts, msa, msa_index, msa_bts)\n",
        "# No one error df_mom_bts\n",
        "\n",
        "df_mom_decom = check_mom_bts(actives, tw_index,tw_status, tw_decom, msa, msa_index, msa_decom)\n",
        "# No one error df_mom_decom\n"
      ],
      "execution_count": null,
      "outputs": [
        {
          "output_type": "stream",
          "text": [
            "\n",
            "No Errors founded!\n",
            "\n",
            "\n",
            "No Errors founded!\n",
            "\n"
          ],
          "name": "stdout"
        }
      ]
    },
    {
      "cell_type": "markdown",
      "metadata": {
        "id": "Z_oKz-xhQvww"
      },
      "source": [
        "Seventh Check If Bts sites has date in Billing Trigger Column "
      ]
    },
    {
      "cell_type": "code",
      "metadata": {
        "id": "i6UkioJSZ2dM"
      },
      "source": [
        "act = list(towerdb[towerdb[tw_status]=='In Service'][tw_index])\n",
        "sites = [i for i in act if i not in uip_vf_sites]\n",
        "len(sites)"
      ],
      "execution_count": null,
      "outputs": []
    },
    {
      "cell_type": "markdown",
      "metadata": {
        "id": "h5gd7RdzdmM7"
      },
      "source": [
        "UIS for IN month check"
      ]
    },
    {
      "cell_type": "code",
      "metadata": {
        "id": "YJQkfp0cRrmW"
      },
      "source": [
        "\"\"\" BTS sites\"\"\"\n",
        "path_vf = '/content/UserInput_Greece_VF_20210831.xlsx'\n",
        "path_wh = '/content/UserInput_Greece_WH_20210831.xlsx'\n",
        "uip_names = ['Site_ID', 'BTS site applicable charge (Annual)', 'Energy: Diesel Charges']\n",
        "uip_vf = pd.read_excel(path_vf ,sheet_name='SiteLevel',usecols=[0,1,4],skiprows=2)\n",
        "uip_wh = pd.read_excel(path_wh ,sheet_name='SiteLevel',usecols=[0,1,4],skiprows=2)\n",
        "#uip = pd.concat([uip_vf, uip_wh], ignore_index=True)\n",
        "#uip.columns = uip_names\n",
        "uip_vf.columns = uip_names\n",
        "uip_wh.columns = uip_names\n",
        "uip_vf_sites = [i for i in uip_vf['Site_ID']]\n",
        "uip_wh_sites = [i for i in uip_wh['Site_ID']]\n",
        "\n",
        "msa_sites_vf = [i for i in msa[msa['towerdb owner']=='Vodafone'][tw_index]]\n",
        "msa_sites_wh = [i for i in msa[msa['towerdb owner']=='Wind'][tw_index]]\n",
        "\n",
        "tw_sites_vf = [i for i in towerdb[towerdb['towerdb owner']=='Vodafone'][tw_index]]\n",
        "tw_sites_wh = [i for i in towerdb[towerdb['towerdb owner']=='Wind'][tw_index]]\n",
        "#uip_sites = uip_vf_sites+uip_wh_sites\n"
      ],
      "execution_count": null,
      "outputs": []
    },
    {
      "cell_type": "code",
      "metadata": {
        "id": "KetPiPEMvzm_"
      },
      "source": [
        "len(msa_sites_vf)"
      ],
      "execution_count": null,
      "outputs": []
    },
    {
      "cell_type": "markdown",
      "metadata": {
        "id": "levK2zxZfPhZ"
      },
      "source": [
        "Vodafone"
      ]
    },
    {
      "cell_type": "code",
      "metadata": {
        "id": "btx20uqqRBRt",
        "colab": {
          "base_uri": "https://localhost:8080/"
        },
        "outputId": "511d064d-8c71-4e0a-bb2c-a17482e8bcfc"
      },
      "source": [
        "def check_new_sites(df_towerdb, tw_index, bts_col, bill_col, status_col, msa_list, towerdb_list):\n",
        "    \n",
        "    # capture current date as string\n",
        "    current_date = pd.to_datetime('now').date()\n",
        "    # convert current to timestamp\n",
        "    current_date = pd.to_datetime(current_date)\n",
        "    \n",
        "    filtered = df_towerdb[[tw_index, status_col]]\n",
        "\n",
        "    #Finding for ALL NEW SITES\n",
        "    new_site = [i for i in towerdb_list if i not in msa_list]\n",
        "    new_sites = pd.DataFrame(new_site, columns=['New_Sites'])\n",
        "    new_sites = pd.merge(new_sites, filtered, how='left', left_on=['New_Sites'], right_on=tw_index)\n",
        "    new_sites = new_sites[['New_Sites', status_col]]\n",
        "\n",
        "    #create a copy to make index modifications\n",
        "    df = df_towerdb.copy()\n",
        "\n",
        "    #New columns with Site Codes\n",
        "    df['Sites'] = df[tw_index]\n",
        "    #defining site code to index\n",
        "    df.set_index('Sites', inplace=True)\n",
        "\n",
        "    #filtering by new sites\n",
        "    df = df[df[tw_index].isin(new_site)]\n",
        "\n",
        "    # Save information os sites with demerged date more than current date\n",
        "    df[bill_col] = pd.to_datetime(df[bill_col], errors='coerce')\n",
        "    df_bts_demerged = df[(df[bts_col]=='Yes') | (df[bill_col] > current_date)]\n",
        "    \n",
        "    #if not (new_sites.empty or bts_out_uis.empty or df_site_bts.empty):\n",
        "    return new_sites, df_bts_demerged[[tw_index,status_col, bts_col, bill_col]]\n",
        "\n",
        "#actives_vf = actives[actives[\"towerdb owner\"]=='Vodafone']\n",
        "\n",
        "new_sites_vf, df_bts_demerged_vf = check_new_sites(towerdb, tw_index, tw_bts,\\\n",
        "                                                    tw_bill,tw_status, msa_sites_vf, tw_sites_vf)\n",
        "\n",
        "print(new_sites_vf)\n",
        "print('\\n')\n",
        "print(df_bts_demerged_vf)\n",
        "#No errors\n",
        "\n"
      ],
      "execution_count": null,
      "outputs": [
        {
          "output_type": "stream",
          "text": [
            "Empty DataFrame\n",
            "Columns: [New_Sites, other - status]\n",
            "Index: []\n",
            "\n",
            "\n",
            "Empty DataFrame\n",
            "Columns: [identification - site key, other - status, flag indicating bts site, msa - billing trigger date]\n",
            "Index: []\n"
          ],
          "name": "stdout"
        }
      ]
    },
    {
      "cell_type": "markdown",
      "metadata": {
        "id": "kcBGQlV2fREY"
      },
      "source": [
        "Wind"
      ]
    },
    {
      "cell_type": "code",
      "metadata": {
        "id": "jxIYAvTtfSiR",
        "colab": {
          "base_uri": "https://localhost:8080/"
        },
        "outputId": "2f1b2829-7f80-466f-8e0a-c5e0ceb497df"
      },
      "source": [
        "actives_wh = actives[~(actives[\"towerdb owner\"]=='Vodafone')]\n",
        "\n",
        "new_siteswh, bts_sites_out_uis_wh = check_new_sites(actives_wh, tw_index, tw_bts, tw_bill, \\\n",
        "                                                    tw_status, msa_sites_wh, tw_sites_wh)\n",
        "print(new_siteswh)\n",
        "print('\\n')\n",
        "print(bts_sites_out_uis_wh)\n",
        "# new = 13, out = 16, df_bts = 0"
      ],
      "execution_count": null,
      "outputs": [
        {
          "output_type": "stream",
          "text": [
            "      New_Sites other - status\n",
            "0  90642-Α64201            NaN\n",
            "1  90750-Α75002     In Service\n",
            "\n",
            "\n",
            "Empty DataFrame\n",
            "Columns: [identification - site key, other - status, flag indicating bts site, msa - billing trigger date]\n",
            "Index: []\n"
          ],
          "name": "stdout"
        }
      ]
    },
    {
      "cell_type": "markdown",
      "metadata": {
        "id": "NsoS_7srk3FE"
      },
      "source": [
        "Eighth - Check DOER "
      ]
    },
    {
      "cell_type": "code",
      "metadata": {
        "id": "tCCW_LsSlwu2",
        "colab": {
          "base_uri": "https://localhost:8080/"
        },
        "outputId": "9f3b33d1-a0a8-4631-dd4c-5fce7be8abb2"
      },
      "source": [
        "\"\"\"In services Checks\"\"\"\n",
        "def check_tw_bill_doer(df_tw, tw_index, date_col, status_col, status, type_col):\n",
        "    \n",
        "    t = type_col.lower()\n",
        "    # capture current date as string\n",
        "    current_date = pd.to_datetime('now').date()\n",
        "    # convert current to timestamp\n",
        "    current_date = pd.to_datetime(current_date)\n",
        "    if not df_tw[date_col].empty:\n",
        "        if t == 'doer':\n",
        "            filtered = df_tw[(df_tw[status_col]==status)&(df_tw[date_col].astype('datetime64[ns]') < current_date)]\n",
        "            return filtered[[tw_index, status_col, date_col]] \n",
        "        else:\n",
        "            #bill_dates = pd.to_datetime(df_tw[date_col], errors==coerrce)\n",
        "            filtered = df_tw[(df_tw[status_col]==status)&(df_tw[date_col].astype('datetime64[ns]').empty)]\n",
        "            return filtered[[tw_index, status_col, date_col]] \n",
        "    else:\n",
        "        print('Nothing wrong in services sites!')\n",
        "\n",
        "in_service = 'In Service'\n",
        "bill_col = [tw_index, tw_bill]\n",
        "#doer_cols = [tw_index,  tw_doer_vf, tw_doer_wh]\n",
        "actives_vf = actives[actives[\"towerdb owner\"]=='Vodafone']\n",
        "actives_wh = actives[~(actives[\"towerdb owner\"]=='Vodafone')]\n",
        "\n",
        "df_doer_vf_on = check_tw_bill_doer(actives_vf, tw_index, tw_doer_vf, tw_status, in_service, 'doer')\n",
        "\n",
        "df_doer_wh_on = check_tw_bill_doer(actives_wh, tw_index, tw_doer_wh, tw_status, in_service, 'doer')\n",
        "# NO errors in both files\n",
        "\n",
        "print(df_doer_vf_on)\n",
        "print('\\n')\n",
        "print(df_doer_wh_on)\n"
      ],
      "execution_count": null,
      "outputs": [
        {
          "output_type": "stream",
          "text": [
            "Empty DataFrame\n",
            "Columns: [identification - site key, other - status, msa - date of equipment removal (vf)]\n",
            "Index: []\n",
            "\n",
            "\n",
            "Empty DataFrame\n",
            "Columns: [identification - site key, other - status, msa - date of equipment removal (wh)]\n",
            "Index: []\n"
          ],
          "name": "stdout"
        }
      ]
    },
    {
      "cell_type": "code",
      "metadata": {
        "id": "VUB1l3Smwy3s",
        "colab": {
          "base_uri": "https://localhost:8080/"
        },
        "outputId": "5a0b89b7-5d94-4e1d-9996-f1f17f63a0e2"
      },
      "source": [
        "\"\"\"Planned Checks\"\"\"\n",
        "def check_tw_doer_planned(df_tw, tw_index, doer_col,bill_col, status_col, dt_format=\"%Y-%m-%d\"):\n",
        "    \"\"\"Only GR until now\"\"\"\n",
        "    # capture current date as string\n",
        "    current_date = pd.to_datetime('now').date()\n",
        "    # convert current to timestamp\n",
        "    current_date = pd.to_datetime(current_date, format=dt_format)\n",
        "    if not df_tw[doer_col].empty:\n",
        "        df_tw[bill_col] = pd.to_datetime(df_tw[bill_col],errors='coerce', format=dt_format)\n",
        "        filtered = df_tw[(df_tw[status_col]=='Planned')&(not df_tw[doer_col].astype('datetime64[ns]').empty)&\\\n",
        "                         (df_tw[bill_col].astype('datetime64[ns]') < current_date)]\n",
        "        return filtered[[tw_index, status_col, bill_col, doer_col]]  \n",
        "    else:\n",
        "        print('\\nNothing wrong in services sites!\\n')\n",
        "# or towerdb[tw_status]=='Planned To be dismantled' or towerdb[tw_status]=='Planned To Be Dismantled')\n",
        "twdb_vf = towerdb[(towerdb[\"towerdb owner\"]=='Vodafone')&(towerdb[tw_status]=='Planned')]\n",
        "twdb_wh = towerdb[(towerdb[\"towerdb owner\"]=='Wind')&(towerdb[tw_status]=='Planned')]\n",
        "format = \"%Y-%m-%d\"\n",
        "df_doer_vf_plann = check_tw_doer_planned(twdb_vf, tw_index, tw_doer_vf,tw_bill, tw_status)\n",
        "df_doer_wh_plann = check_tw_doer_planned(twdb_wh, tw_index, tw_doer_wh,tw_bill, tw_status)\n",
        "\n",
        "print(df_doer_vf_plann)\n",
        "print('\\n')\n",
        "print(df_doer_wh_plann)\n",
        "#No errors in both\n"
      ],
      "execution_count": null,
      "outputs": [
        {
          "output_type": "stream",
          "text": [
            "Empty DataFrame\n",
            "Columns: [identification - site key, other - status, msa - billing trigger date, msa - date of equipment removal (vf)]\n",
            "Index: []\n",
            "\n",
            "\n",
            "Empty DataFrame\n",
            "Columns: [identification - site key, other - status, msa - billing trigger date, msa - date of equipment removal (wh)]\n",
            "Index: []\n"
          ],
          "name": "stdout"
        },
        {
          "output_type": "stream",
          "text": [
            "/usr/local/lib/python3.7/dist-packages/ipykernel_launcher.py:9: SettingWithCopyWarning: \n",
            "A value is trying to be set on a copy of a slice from a DataFrame.\n",
            "Try using .loc[row_indexer,col_indexer] = value instead\n",
            "\n",
            "See the caveats in the documentation: https://pandas.pydata.org/pandas-docs/stable/user_guide/indexing.html#returning-a-view-versus-a-copy\n",
            "  if __name__ == '__main__':\n"
          ],
          "name": "stderr"
        }
      ]
    },
    {
      "cell_type": "markdown",
      "metadata": {
        "id": "in1fx1_Cqg-A"
      },
      "source": [
        "Nineth - Check Decomissioned Sites"
      ]
    },
    {
      "cell_type": "code",
      "metadata": {
        "id": "pnvVfn7uopVN",
        "colab": {
          "base_uri": "https://localhost:8080/"
        },
        "outputId": "760a91e4-c829-4b58-c239-0afb7f2bcc3f"
      },
      "source": [
        "def check_decommissioned(df,df_index,status_col, decom_col, doer_col):\n",
        "    #c = country.lower()\n",
        "    filtered = df[(df[decom_col]=='Yes')&(df[doer_col]==\"\")]\n",
        "    return filtered[[df_index,status_col, decom_col, doer_col]]\n",
        "  \n",
        "twdb_vf = towerdb[towerdb[\"towerdb owner\"]=='Vodafone']\n",
        "twdb_wh = towerdb[~(towerdb[\"towerdb owner\"]=='Vodafone')]\n",
        "\n",
        "df_doer_vf = check_decommissioned(twdb_vf, tw_index,tw_status, tw_decom, tw_doer_vf)\n",
        "df_doer_wh = check_decommissioned(twdb_wh, tw_index,tw_status, tw_decom, tw_doer_wh)\n",
        "\n",
        "print(df_doer_vf)\n",
        "print('\\n')\n",
        "print(df_doer_wh)\n",
        "#No ERRORS\n"
      ],
      "execution_count": null,
      "outputs": [
        {
          "output_type": "stream",
          "text": [
            "Empty DataFrame\n",
            "Columns: [identification - site key, other - status, msa - date of decommissioning, msa - date of equipment removal (vf)]\n",
            "Index: []\n",
            "\n",
            "\n",
            "Empty DataFrame\n",
            "Columns: [identification - site key, other - status, msa - date of decommissioning, msa - date of equipment removal (wh)]\n",
            "Index: []\n"
          ],
          "name": "stdout"
        }
      ]
    },
    {
      "cell_type": "markdown",
      "metadata": {
        "id": "jySB4PFNsGZs"
      },
      "source": [
        "Tenth - Check UIP Towerdb matches\n",
        "\n",
        "\n",
        "\n",
        "\n"
      ]
    },
    {
      "cell_type": "markdown",
      "metadata": {
        "id": "0dq3IcUl37K9"
      },
      "source": [
        "## Vodafone"
      ]
    },
    {
      "cell_type": "code",
      "metadata": {
        "id": "1I83XwkisJrP",
        "colab": {
          "base_uri": "https://localhost:8080/"
        },
        "outputId": "8e94a296-d394-4acf-987e-68873aad7b78"
      },
      "source": [
        "def check_uip_tw(df_tw,tw_index, status_tw_col, decom_col, tw_bts_col, tw_critical_col, uip_sites):\n",
        "\n",
        "    filtered = df_tw[[tw_index, status_tw_col]]\n",
        "    #tw_active = df_tw[df_tw['Site Status']=='In Service']\n",
        "    count_tw_sites = [i for i in df_tw[df_tw[status_tw_col] =='In Service'][tw_index]]\n",
        "\n",
        "    # check number of sites that are in uip file and doesn't have in df_tw\n",
        "    in_service_uip_sites = [i for i in uip_sites if i not in count_tw_sites]\n",
        "    in_service_uip_sites = pd.DataFrame(in_service_uip_sites,columns=['UIS Sites not active in TowerDB!'])\n",
        "    in_service_uip_sites = pd.merge(in_service_uip_sites, filtered, how='left', left_on='UIS Sites not active in TowerDB!',\\\n",
        "                                    right_on=tw_index)\n",
        "    in_service_uip_sites = in_service_uip_sites[['UIS Sites not active in TowerDB!', status_tw_col]]\n",
        "\n",
        "    in_service_not_in_uis = [i for i in count_tw_sites if i not in uip_sites]\n",
        "    in_service_not_in_uis = pd.DataFrame(in_service_not_in_uis,columns=['TowerDB Sites out UIS'])\n",
        "    in_service_not_in_uis = pd.merge(in_service_not_in_uis, filtered, how='left', left_on='TowerDB Sites out UIS',\\\n",
        "                                    right_on=tw_index)\n",
        "    in_service_not_in_uis = in_service_not_in_uis[['TowerDB Sites out UIS', status_tw_col]]\n",
        "    \n",
        "    #Check Decomissioned Sites\n",
        "    tw_decomiss = [i for i in df_tw[df_tw[decom_col]=='Yes'][tw_index] if i in uip_sites]\n",
        "    decomiss_sites_in_uip = pd.DataFrame(tw_decomiss, columns=['Decomissioned Site in UIS File'])\n",
        "    decomiss_sites_in_uip = pd.merge(decomiss_sites_in_uip, filtered, how='left', left_on='Decomissioned Site in UIS File',\\\n",
        "                                    right_on=tw_index)\n",
        "    decomiss_sites_in_uip = decomiss_sites_in_uip[['Decomissioned Site in UIS File', status_tw_col]]\n",
        "    \n",
        "    #Check BTS sites\n",
        "    bts_sites = [i for i in df_tw[df_tw[tw_bts_col]=='Yes'][tw_index]]\n",
        "    bts_sites_out_uip = [i for i in bts_sites if i not in uip_sites]\n",
        "    bts_sites_out_uip = pd.DataFrame(bts_sites_out_uip, columns=['BTS Site out UIS File'])\n",
        "    bts_sites_out_uip = pd.merge(bts_sites_out_uip, filtered, how='left', left_on='BTS Site out UIS File',\\\n",
        "                                    right_on=tw_index)\n",
        "    bts_sites_out_uip = bts_sites_out_uip[bts_sites_out_uip[status_tw_col]=='In Service'][['BTS Site out UIS File', status_tw_col]]\n",
        "\n",
        "    bts_tw_critical = [i for i in df_tw[df_tw[tw_critical_col]=='Beyond 10%'][tw_index]]\n",
        "    critical = [i for i in bts_tw_critical if i not in uip_critical]\n",
        "    critical = pd.DataFrame(critical, columns=['Sites Beyond 10% out UIS'])\n",
        "    critical = pd.merge(critical, filtered, how='left', left_on='Sites Beyond 10% out UIS',\\\n",
        "                                    right_on=tw_index)\n",
        "    critical = critical[['Sites Beyond 10% out UIS', status_tw_col]]\n",
        "\n",
        "    return in_service_uip_sites,in_service_not_in_uis, decomiss_sites_in_uip, bts_sites_out_uip, critical\n",
        "\n",
        "tw_vf = towerdb[towerdb[\"towerdb owner\"]=='Vodafone']\n",
        "in_service_uip_sites_vf,in_service_not_in_uis_vf, decomiss_sites_in_uip_vf, bts_sites_out_uip_vf, critical_vf = check_uip_tw(tw_vf,tw_index, tw_status, \\\n",
        "                                                            tw_decom, tw_bts, tw_critical, uip_vf_sites)\n",
        "\n",
        "print(in_service_uip_sites_vf)\n",
        "print('\\n')\n",
        "print(in_service_not_in_uis_vf)\n",
        "print('\\n')\n",
        "print(decomiss_sites_in_uip_vf)\n",
        "print('\\n')\n",
        "print(bts_sites_out_uip_vf)\n",
        "print('\\n')\n",
        "print(critical_vf)\n",
        "# No one errors\n"
      ],
      "execution_count": null,
      "outputs": [
        {
          "output_type": "stream",
          "text": [
            "  UIS Sites not active in TowerDB!                 other - status\n",
            "0                     4986-3015543                            NaN\n",
            "1                     2545-1002545      Dismantled / Active Lease\n",
            "2                     3513-1003513  Out Of Service / Active Lease\n",
            "3                     3706-1003706  Out Of Service / Active Lease\n",
            "4                     4583-1004583  Out Of Service / Active Lease\n",
            "5                     4587-1004587  Out Of Service / Active Lease\n",
            "6                     4594-1004594  Out Of Service / Active Lease\n",
            "7                     4599-1004599  Out Of Service / Active Lease\n",
            "\n",
            "\n",
            "     TowerDB Sites out UIS other - status\n",
            "0             1003-3011524     In Service\n",
            "1             1005-2001005     In Service\n",
            "2             1005-3011513     In Service\n",
            "3             1009-3011416     In Service\n",
            "4              101-1002102     In Service\n",
            "...                    ...            ...\n",
            "2431           990-1000990     In Service\n",
            "2432            99-1000099     In Service\n",
            "2433           991-1000991     In Service\n",
            "2434           993-1000993     In Service\n",
            "2435           997-2001010     In Service\n",
            "\n",
            "[2436 rows x 2 columns]\n",
            "\n",
            "\n",
            "Empty DataFrame\n",
            "Columns: [Decomissioned Site in UIS File, other - status]\n",
            "Index: []\n",
            "\n",
            "\n",
            "    BTS Site out UIS File other - status\n",
            "17           1488-3018532     In Service\n",
            "27           2050-3023782     In Service\n",
            "71           3922-1003922     In Service\n",
            "79           4408-3024211     In Service\n",
            "82           4506-3023778     In Service\n",
            "99           5052-3023662     In Service\n",
            "100          5066-3024616     In Service\n",
            "\n",
            "\n",
            "Empty DataFrame\n",
            "Columns: [Sites Beyond 10% out UIS, other - status]\n",
            "Index: []\n"
          ],
          "name": "stdout"
        }
      ]
    },
    {
      "cell_type": "markdown",
      "metadata": {
        "id": "6WVYRvB53zUz"
      },
      "source": [
        "## Wind"
      ]
    },
    {
      "cell_type": "code",
      "metadata": {
        "id": "w4XdsxgnkFft",
        "colab": {
          "base_uri": "https://localhost:8080/"
        },
        "outputId": "9581dadd-7ed7-4999-cf97-f71f35d04e51"
      },
      "source": [
        "tw_wh = towerdb[towerdb[\"towerdb owner\"]=='Wind']\n",
        "uis_sites_not_in_towerdbwh, in_service_not_in_uiswh, decomiss_sites_in_uiswh, bts_sites_out_uipwh, critical_wh = check_uip_tw(tw_wh,tw_index, tw_status, \\\n",
        "                                                            tw_decom, tw_bts,tw_critical, uip_wh_sites)\n",
        "print(uis_sites_not_in_towerdbwh)\n",
        "print('\\n')\n",
        "print(in_service_not_in_uiswh)\n",
        "print('\\n')\n",
        "print(decomiss_sites_in_uiswh)\n",
        "print('\\n')\n",
        "print(bts_sites_out_uipwh)\n",
        "print('\\n')\n",
        "print(critical_wh)\n",
        "\n"
      ],
      "execution_count": null,
      "outputs": [
        {
          "output_type": "stream",
          "text": [
            "Empty DataFrame\n",
            "Columns: [UIS Sites not active in TowerDB!, other - status]\n",
            "Index: []\n",
            "\n",
            "\n",
            "     TowerDB Sites out UIS other - status\n",
            "0              1000-100001     In Service\n",
            "1              1002-100201     In Service\n",
            "2              1003-100301     In Service\n",
            "3              1008-100801     In Service\n",
            "4              1009-100901     In Service\n",
            "...                    ...            ...\n",
            "2207           9985-998502     In Service\n",
            "2208            998-S99801     In Service\n",
            "2209           9994-999401     In Service\n",
            "2210            999-S99901     In Service\n",
            "2211             99-S09901     In Service\n",
            "\n",
            "[2212 rows x 2 columns]\n",
            "\n",
            "\n",
            "Empty DataFrame\n",
            "Columns: [Decomissioned Site in UIS File, other - status]\n",
            "Index: []\n",
            "\n",
            "\n",
            "    BTS Site out UIS File other - status\n",
            "1             1274-127402     In Service\n",
            "41            3291-329102     In Service\n",
            "45            3738-373802     In Service\n",
            "48            3835-383504     In Service\n",
            "57            4466-446604     In Service\n",
            "58            4488-448802     In Service\n",
            "100          90442-A44201     In Service\n",
            "111          90591-A59101     In Service\n",
            "116          90670-A67002     In Service\n",
            "117          90703-A70301     In Service\n",
            "120          90746-A74601     In Service\n",
            "123          90776-A77602     In Service\n",
            "126          90787-A78701     In Service\n",
            "129          90805-A80501     In Service\n",
            "138          90940-A94003     In Service\n",
            "176          91508-D50801     In Service\n",
            "183           9549-954903     In Service\n",
            "187           9592-959202     In Service\n",
            "193           9702-970202     In Service\n",
            "\n",
            "\n",
            "Empty DataFrame\n",
            "Columns: [Sites Beyond 10% out UIS, other - status]\n",
            "Index: []\n"
          ],
          "name": "stdout"
        }
      ]
    },
    {
      "cell_type": "code",
      "metadata": {
        "id": "kPK_EnaCFRpE",
        "colab": {
          "base_uri": "https://localhost:8080/"
        },
        "outputId": "ff177901-65bd-4262-c546-df297d7198bd"
      },
      "source": [
        "wh_special = tw_wh[(tw_wh['bp - consolidated classification']=='Special')&(tw_wh[tw_status]=='In Service')][tw_index].to_list()\n",
        "wh_special\n",
        "sp_wh_not_uis = [i for i in uip_wh_sites if i not in wh_special]\n",
        "sp_wh_not_uis\n",
        "\n",
        "vf_special = tw_vf[(tw_vf['bp - consolidated classification']=='Special')&(tw_vf[tw_status]=='In Service')][tw_index].to_list()\n",
        "\n",
        "sp_vf_not_uis = [i for i in uip_vf_sites if i not in vf_special]\n",
        "print(sp_vf_not_uis)\n"
      ],
      "execution_count": null,
      "outputs": [
        {
          "output_type": "stream",
          "text": [
            "['1018-3010369', '1049-3010368', '1050-3010358', '1076-3012154', '1120-3012079', '1121-3011798', '1154-3010163', '1163-3011073', '1208-3010486', '124-1000124', '1291-2001291', '13-1002843', '1416-2001416', '1421-2001421', '1438-2001438', '1449-3010447', '1476-1001476', '154-1000154', '156-1000156', '157-1000157', '1579-1001579', '1642-3007714', '1652-1001652', '1658-1001658', '1673-1001673', '1676-1001676', '1696-1001696', '1699-1001699', '177-1000177', '1775-1001775', '1921-1001921', '1945-1001945', '1961-1001961', '2040-1002040', '205-1000205', '2068-3011295', '2074-3014634', '2079-1002079', '2106-1002106', '2128-1002128', '2130-1006364', '2134-1002134', '2185-1002185', '2188-1002188', '2193-1002193', '2205-1002205', '2301-1002301', '2305-1002305', '2316-1002316', '2317-1002317', '2339-1002339', '2348-1002348', '2354-1002354', '2355-1002355', '2392-1002392', '240-1000240', '2417-1002417', '244-1000244', '2444-1002444', '2489-1002489', '2578-1002578', '2648-2001218', '274-1000274', '279-1000279', '2820-1002820', '2864-1002864', '2874-1002874', '2877-1002877', '2883-1002883', '2898-1002898', '2913-2001217', '305-1000305', '306-2001304', '357-2001300', '478-1000478', '4783-3007978', '4865-1004865', '4904-1004904', '4986-3015543', '517-1000517', '5304-3011630', '5497-3009324', '5526-3009159', '5531-3012398', '5541-3009024', '5624-3007421', '5655-3010058', '5664-3011270', '5671-3008211', '5694-3009750', '5709-3007811', '57-1000057', '5715-3008358', '5743-3010616', '5767-3009177', '5782-3010228', '5788-3009613', '5900-3007104', '5968-3009310', '6009-3010282', '6022-3011996', '6034-3009122', '6035-3010737', '6039-3009523', '6222-1006222', '6236-3011145', '6272-3018587', '6315-1006315', '6362-1006362', '6369-1006369', '6372-3008647', '6439-1006439', '6451-3015555', '6482-3015036', '674-1000674', '679-1000679', '698-1000698', '749-1000749', '811-1000811', '825-1000825', '867-1000867', '2545-1002545', '3513-1003513', '3706-1003706', '4583-1004583', '4587-1004587', '4594-1004594', '4599-1004599']\n"
          ],
          "name": "stdout"
        }
      ]
    },
    {
      "cell_type": "code",
      "metadata": {
        "id": "x80odc_w8jiU"
      },
      "source": [
        "def check_diffs_v2(path_current, path_last):\n",
        "    def lower_str(columns):\n",
        "        newlist = list(map(lambda x: x.lower(), columns))\n",
        "        return newlist\n",
        "\n",
        "    def highlight_diff(data, color='yellow'):\n",
        "        attr = 'background-color: {}'.format(color)\n",
        "        other = data.xs('Current', axis='columns', level=-1)\n",
        "        return pd.DataFrame(np.where(data.ne(other, level=0), attr, ''),\n",
        "                            index=data.index, columns=data.columns)\n",
        "\n",
        "    _actual = pd.read_excel(path_current,sheet_name='Commercial').fillna('')\n",
        "\n",
        "    _before = pd.read_excel(path_last,sheet_name='Commercial').fillna('')\n",
        "\n",
        "    df_all = pd.concat([_actual, _before],axis='columns', keys=['Current', 'Last'])\n",
        "    df_final = df_all.swaplevel(axis='columns')[_actual.columns[1:]]\n",
        "\n",
        "    #df_final.style.apply(highlight_diff, axis=None)\n",
        "    if not df_final.empty:\n",
        "        return df_final[(_actual != _before).any(1)].style.apply(highlight_diff, axis=None)\n",
        "    else:\n",
        "        print('\\nNo differences Founded!\\n')\n",
        "\n",
        "df_com_vf = check_diffs_v2('/content/UserInput_Greece_VF_20210831.xlsx', '/content/UserInput_Greece_VF_20210731.xlsx')\n",
        "\n",
        "df_com_wh = check_diffs_v2('/content/UserInput_Greece_WH_20210831.xlsx', '/content/UserInput_Greece_WH_20210731.xlsx')\n"
      ],
      "execution_count": null,
      "outputs": []
    },
    {
      "cell_type": "code",
      "metadata": {
        "colab": {
          "base_uri": "https://localhost:8080/",
          "height": 57
        },
        "id": "R2g-oUrCGIXp",
        "outputId": "3dfdd1ac-342d-43be-cf2f-e6299031f662"
      },
      "source": [
        "df_com_vf"
      ],
      "execution_count": null,
      "outputs": [
        {
          "output_type": "execute_result",
          "data": {
            "text/html": [
              "<style  type=\"text/css\" >\n",
              "</style><table id=\"T_05a42c08_ff30_11eb_93a9_0242ac1c0002\" ><thead>    <tr>        <th class=\"blank level0\" ></th>        <th class=\"col_heading level0 col0\" colspan=2>Sub_charge_Type</th>        <th class=\"col_heading level0 col2\" colspan=2>Param1</th>        <th class=\"col_heading level0 col4\" colspan=2>Param2</th>        <th class=\"col_heading level0 col6\" colspan=2>Param3</th>        <th class=\"col_heading level0 col8\" colspan=2>Param4</th>        <th class=\"col_heading level0 col10\" colspan=2>Data_Type</th>        <th class=\"col_heading level0 col12\" colspan=2>Input_Value</th>        <th class=\"col_heading level0 col14\" colspan=2>Description/Instruction</th>        <th class=\"col_heading level0 col16\" colspan=2>Frequency of Update</th>    </tr>    <tr>        <th class=\"blank level1\" ></th>        <th class=\"col_heading level1 col0\" >Current</th>        <th class=\"col_heading level1 col1\" >Last</th>        <th class=\"col_heading level1 col2\" >Current</th>        <th class=\"col_heading level1 col3\" >Last</th>        <th class=\"col_heading level1 col4\" >Current</th>        <th class=\"col_heading level1 col5\" >Last</th>        <th class=\"col_heading level1 col6\" >Current</th>        <th class=\"col_heading level1 col7\" >Last</th>        <th class=\"col_heading level1 col8\" >Current</th>        <th class=\"col_heading level1 col9\" >Last</th>        <th class=\"col_heading level1 col10\" >Current</th>        <th class=\"col_heading level1 col11\" >Last</th>        <th class=\"col_heading level1 col12\" >Current</th>        <th class=\"col_heading level1 col13\" >Last</th>        <th class=\"col_heading level1 col14\" >Current</th>        <th class=\"col_heading level1 col15\" >Last</th>        <th class=\"col_heading level1 col16\" >Current</th>        <th class=\"col_heading level1 col17\" >Last</th>    </tr></thead><tbody>\n",
              "        </tbody></table>"
            ],
            "text/plain": [
              "<pandas.io.formats.style.Styler at 0x7f46ce30bc90>"
            ]
          },
          "metadata": {
            "tags": []
          },
          "execution_count": 22
        }
      ]
    },
    {
      "cell_type": "code",
      "metadata": {
        "colab": {
          "base_uri": "https://localhost:8080/",
          "height": 57
        },
        "id": "Na2MIsI1GJlg",
        "outputId": "cbcc4dc7-a428-4327-ded8-9a2a94246401"
      },
      "source": [
        "df_com_wh"
      ],
      "execution_count": null,
      "outputs": [
        {
          "output_type": "execute_result",
          "data": {
            "text/html": [
              "<style  type=\"text/css\" >\n",
              "</style><table id=\"T_05ca347a_ff30_11eb_93a9_0242ac1c0002\" ><thead>    <tr>        <th class=\"blank level0\" ></th>        <th class=\"col_heading level0 col0\" colspan=2>Sub_charge_Type</th>        <th class=\"col_heading level0 col2\" colspan=2>Param1</th>        <th class=\"col_heading level0 col4\" colspan=2>Param2</th>        <th class=\"col_heading level0 col6\" colspan=2>Param3</th>        <th class=\"col_heading level0 col8\" colspan=2>Param4</th>        <th class=\"col_heading level0 col10\" colspan=2>Data_Type</th>        <th class=\"col_heading level0 col12\" colspan=2>Input_Value</th>        <th class=\"col_heading level0 col14\" colspan=2>Description/Instruction</th>        <th class=\"col_heading level0 col16\" colspan=2>Frequency of Update</th>    </tr>    <tr>        <th class=\"blank level1\" ></th>        <th class=\"col_heading level1 col0\" >Current</th>        <th class=\"col_heading level1 col1\" >Last</th>        <th class=\"col_heading level1 col2\" >Current</th>        <th class=\"col_heading level1 col3\" >Last</th>        <th class=\"col_heading level1 col4\" >Current</th>        <th class=\"col_heading level1 col5\" >Last</th>        <th class=\"col_heading level1 col6\" >Current</th>        <th class=\"col_heading level1 col7\" >Last</th>        <th class=\"col_heading level1 col8\" >Current</th>        <th class=\"col_heading level1 col9\" >Last</th>        <th class=\"col_heading level1 col10\" >Current</th>        <th class=\"col_heading level1 col11\" >Last</th>        <th class=\"col_heading level1 col12\" >Current</th>        <th class=\"col_heading level1 col13\" >Last</th>        <th class=\"col_heading level1 col14\" >Current</th>        <th class=\"col_heading level1 col15\" >Last</th>        <th class=\"col_heading level1 col16\" >Current</th>        <th class=\"col_heading level1 col17\" >Last</th>    </tr></thead><tbody>\n",
              "        </tbody></table>"
            ],
            "text/plain": [
              "<pandas.io.formats.style.Styler at 0x7f46ce307890>"
            ]
          },
          "metadata": {
            "tags": []
          },
          "execution_count": 23
        }
      ]
    },
    {
      "cell_type": "markdown",
      "metadata": {
        "id": "8w-2KOenxTAi"
      },
      "source": [
        "Eleventh - Check commercial values\n",
        "\n",
        "Made Changes in comparisons"
      ]
    },
    {
      "cell_type": "code",
      "metadata": {
        "id": "N0-RN108xF1p"
      },
      "source": [
        "#check_commercial(path_current, path_before, col_replace, col_names, merge_cols, col_order)\n",
        "def check_commercial(path_current, path_before, col_replace, col_names, merge_cols, col_order):\n",
        "    \n",
        "    def check_uip_commercial_values(df_actual, df_before, merge_cols):\n",
        "        df_atual = uip_comercial_actual\n",
        "        df_ant = uip_comercial_before\n",
        "        df_cross = pd.merge(df_actual, df_before, on=merge_cols, \\\n",
        "                            how='left', suffixes=('_actual', '_before'), indicator='Exist')\n",
        "        df_cross['Exist'] = np.where(df_cross.Exist == 'both', 'Yes', 'No')\n",
        "        df_cross['Equal Values'] = df_cross['Exist']\n",
        "        \n",
        "        return df_cross\n",
        "    \n",
        "    def replace_values(df, columns, value=\"\"):\n",
        "        \"\"\"\n",
        "        Está voltando para float\n",
        "        \"\"\"\n",
        "        invalid_values = ['N/A', 'n/a',\"0\", '-', '_', np.nan,'nan']\n",
        "        #lista = []\n",
        "\n",
        "        df.fillna(0, inplace=True)\n",
        "        #df[column] = df[column].astype('int64')\n",
        "\n",
        "        for column in columns:\n",
        "            lista = []\n",
        "            for index in df[column]:\n",
        "                #print(f\"{column} -> {index}\")\n",
        "                if index in invalid_values:\n",
        "                    lista.append(value)\n",
        "                else:\n",
        "                    lista.append(index)\n",
        "            df[column] = lista\n",
        "\n",
        "        return df\n",
        "\n",
        "    # Check for commercial Values into current UIP File and compare with UIP File before\n",
        "    uip_comercial_actual = pd.read_excel(path_current,sheet_name='Commercial', names=col_names)\n",
        "    #uip_comercial_actual = uip_comercial_actual[['Charge_Type', 'Data_Type', 'Input_Value']]\n",
        "    #uip_comercial_actual = replace_values(uip_comercial_actual, col_replace, value=0)\n",
        "\n",
        "    uip_comercial_before = pd.read_excel(path_before,sheet_name='Commercial', names=col_names )\n",
        "    #uip_comercial_before = uip_comercial_before[['Charge_Type', 'Data_Type', 'Input_Value']]\n",
        "    #uip_comercial_before = replace_values(uip_comercial_before, col_replace, value=0)\n",
        "\n",
        "    df_commercial =  check_uip_commercial_values(uip_comercial_actual, uip_comercial_before, merge_cols)\n",
        "\n",
        "    df_commercial = df_commercial.reindex(columns=col_order)\n",
        "    df_commercial_diffs = df_commercial[df_commercial['Equal Values']=='No']\n",
        "    return df_commercial_diffs\n",
        "\n",
        "path_vf_before = '/content/UserInput_Greece_VF_20210731.xlsx'\n",
        "path_vf_curr = '/content/UserInput_Greece_VF_20210831.xlsx'\n",
        "names = ['Charge_Type','Sub_Charge_Type', 'Param1','Param2','Param3','Param4', 'Data_Type', 'Input_Value',\\\n",
        "        'Description/Instruction', 'Frequency of Update']\n",
        "merge_cols = ['Charge_Type','Sub_Charge_Type', 'Param1','Param2','Param3','Param4', 'Data_Type', \\\n",
        "              'Description/Instruction', 'Frequency of Update']\n",
        "cols_ordered = ['Charge_Type','Sub_Charge_Type', 'Param1','Param2','Param3','Param4','Data_Type','Input_Value_actual',\\\n",
        "                'Input_Value_before','Equal Values','Description/Instruction', 'Frequency of Update']\n",
        "df_commercial_diffs_vf = check_commercial(path_vf_curr, path_vf_before, 'Input_Value', names, merge_cols, cols_ordered)\n",
        "# No differences\n",
        "df_commercial_diffs_wh = check_commercial('/content/UserInput_Greece_WH_20210831.xlsx', '/content/UserInput_Greece_WH_20210731.xlsx', 'Input_Value', names, merge_cols, cols_ordered)\n",
        "# No differences"
      ],
      "execution_count": null,
      "outputs": []
    },
    {
      "cell_type": "code",
      "metadata": {
        "colab": {
          "base_uri": "https://localhost:8080/",
          "height": 85
        },
        "id": "PjSVkBQbHLoA",
        "outputId": "08a8d5bb-33f3-495c-8d27-9a5560a0fca2"
      },
      "source": [
        "df_commercial_diffs_wh"
      ],
      "execution_count": null,
      "outputs": [
        {
          "output_type": "execute_result",
          "data": {
            "text/html": [
              "<div>\n",
              "<style scoped>\n",
              "    .dataframe tbody tr th:only-of-type {\n",
              "        vertical-align: middle;\n",
              "    }\n",
              "\n",
              "    .dataframe tbody tr th {\n",
              "        vertical-align: top;\n",
              "    }\n",
              "\n",
              "    .dataframe thead th {\n",
              "        text-align: right;\n",
              "    }\n",
              "</style>\n",
              "<table border=\"1\" class=\"dataframe\">\n",
              "  <thead>\n",
              "    <tr style=\"text-align: right;\">\n",
              "      <th></th>\n",
              "      <th>Charge_Type</th>\n",
              "      <th>Sub_Charge_Type</th>\n",
              "      <th>Param1</th>\n",
              "      <th>Param2</th>\n",
              "      <th>Param3</th>\n",
              "      <th>Param4</th>\n",
              "      <th>Data_Type</th>\n",
              "      <th>Input_Value_actual</th>\n",
              "      <th>Input_Value_before</th>\n",
              "      <th>Equal Values</th>\n",
              "      <th>Description/Instruction</th>\n",
              "      <th>Frequency of Update</th>\n",
              "    </tr>\n",
              "  </thead>\n",
              "  <tbody>\n",
              "  </tbody>\n",
              "</table>\n",
              "</div>"
            ],
            "text/plain": [
              "Empty DataFrame\n",
              "Columns: [Charge_Type, Sub_Charge_Type, Param1, Param2, Param3, Param4, Data_Type, Input_Value_actual, Input_Value_before, Equal Values, Description/Instruction, Frequency of Update]\n",
              "Index: []"
            ]
          },
          "metadata": {
            "tags": []
          },
          "execution_count": 32
        }
      ]
    },
    {
      "cell_type": "markdown",
      "metadata": {
        "id": "zwPSUPdzBeJc"
      },
      "source": [
        "# Check Diesel Charges - VF"
      ]
    },
    {
      "cell_type": "code",
      "metadata": {
        "colab": {
          "base_uri": "https://localhost:8080/",
          "height": 262
        },
        "id": "EuSZfrykAUsQ",
        "outputId": "213c3b66-f2a5-4ae5-d655-04804ad6bc04"
      },
      "source": [
        "uip_vf_legacy_sites = [i for i in uip_vf[uip_vf['BTS site applicable charge (Annual)'].notnull()]['Site_ID']]\n",
        "uip_vf_diesel_sites = [i for i in uip_vf[uip_vf['Energy: Diesel Charges'].notnull()]['Site_ID']]\n",
        "\n",
        "actives_vf_sites = [i for i in towerdb[(towerdb[tw_status].isin(['In Service','Dismantled / Active Lease'])) &\\\n",
        "                                       (towerdb['towerdb owner']=='Vodafone')][tw_index]]\n",
        "print(len(uip_vf_legacy_sites))\n",
        "print(len(uip_vf_diesel_sites))\n",
        "legacies_vf_not_active_or_dismantled = [i for i in uip_vf_legacy_sites if i not in actives_vf_sites]\n",
        "legacies_vf = pd.DataFrame(legacies_vf_not_active_or_dismantled, columns=['Legacies VF not Active'])\n",
        "vf_sites = towerdb[towerdb['towerdb owner']=='Vodafone'][[tw_index, tw_status]]\n",
        "legacies_vf = pd.merge(legacies_vf,vf_sites, how='left', left_on= 'Legacies VF not Active', right_on=tw_index)\n",
        "legacies_vf = legacies_vf.iloc[:, [0,2]]\n",
        "legacies_vf"
      ],
      "execution_count": null,
      "outputs": [
        {
          "output_type": "stream",
          "text": [
            "183\n",
            "122\n"
          ],
          "name": "stdout"
        },
        {
          "output_type": "execute_result",
          "data": {
            "text/html": [
              "<div>\n",
              "<style scoped>\n",
              "    .dataframe tbody tr th:only-of-type {\n",
              "        vertical-align: middle;\n",
              "    }\n",
              "\n",
              "    .dataframe tbody tr th {\n",
              "        vertical-align: top;\n",
              "    }\n",
              "\n",
              "    .dataframe thead th {\n",
              "        text-align: right;\n",
              "    }\n",
              "</style>\n",
              "<table border=\"1\" class=\"dataframe\">\n",
              "  <thead>\n",
              "    <tr style=\"text-align: right;\">\n",
              "      <th></th>\n",
              "      <th>Legacies VF not Active</th>\n",
              "      <th>other - status</th>\n",
              "    </tr>\n",
              "  </thead>\n",
              "  <tbody>\n",
              "    <tr>\n",
              "      <th>0</th>\n",
              "      <td>3513-1003513</td>\n",
              "      <td>Out Of Service / Active Lease</td>\n",
              "    </tr>\n",
              "    <tr>\n",
              "      <th>1</th>\n",
              "      <td>3706-1003706</td>\n",
              "      <td>Out Of Service / Active Lease</td>\n",
              "    </tr>\n",
              "    <tr>\n",
              "      <th>2</th>\n",
              "      <td>4583-1004583</td>\n",
              "      <td>Out Of Service / Active Lease</td>\n",
              "    </tr>\n",
              "    <tr>\n",
              "      <th>3</th>\n",
              "      <td>4587-1004587</td>\n",
              "      <td>Out Of Service / Active Lease</td>\n",
              "    </tr>\n",
              "    <tr>\n",
              "      <th>4</th>\n",
              "      <td>4594-1004594</td>\n",
              "      <td>Out Of Service / Active Lease</td>\n",
              "    </tr>\n",
              "    <tr>\n",
              "      <th>5</th>\n",
              "      <td>4599-1004599</td>\n",
              "      <td>Out Of Service / Active Lease</td>\n",
              "    </tr>\n",
              "  </tbody>\n",
              "</table>\n",
              "</div>"
            ],
            "text/plain": [
              "  Legacies VF not Active                 other - status\n",
              "0           3513-1003513  Out Of Service / Active Lease\n",
              "1           3706-1003706  Out Of Service / Active Lease\n",
              "2           4583-1004583  Out Of Service / Active Lease\n",
              "3           4587-1004587  Out Of Service / Active Lease\n",
              "4           4594-1004594  Out Of Service / Active Lease\n",
              "5           4599-1004599  Out Of Service / Active Lease"
            ]
          },
          "metadata": {
            "tags": []
          },
          "execution_count": 96
        }
      ]
    },
    {
      "cell_type": "code",
      "metadata": {
        "colab": {
          "base_uri": "https://localhost:8080/"
        },
        "id": "RDndpyDrJNhj",
        "outputId": "17b77389-073d-442e-8528-22823ca49fd3"
      },
      "source": [
        "diesel = uip_vf['Energy: Diesel Charges'].notnull().isin(actives_tw_sites)\n",
        "ind = uip_vf.index[diesel==True]\n",
        "ind"
      ],
      "execution_count": null,
      "outputs": [
        {
          "output_type": "execute_result",
          "data": {
            "text/plain": [
              "Int64Index([], dtype='int64')"
            ]
          },
          "metadata": {
            "tags": []
          },
          "execution_count": 65
        }
      ]
    },
    {
      "cell_type": "markdown",
      "metadata": {
        "id": "r1DvS40sWVNQ"
      },
      "source": [
        "# Check Diesel Charges - WH"
      ]
    },
    {
      "cell_type": "code",
      "metadata": {
        "colab": {
          "base_uri": "https://localhost:8080/",
          "height": 81
        },
        "id": "aTnZmDJkWPmW",
        "outputId": "3ca74e6f-6f90-49c6-aa7b-45e2b401720d"
      },
      "source": [
        "uip_wh_legacy_sites = [i for i in uip_wh[uip_wh['BTS site applicable charge (Annual)'].notnull()]['Site_ID']]\n",
        "\n",
        "\n",
        "actives_wh_sites = [i for i in towerdb[(towerdb[tw_status].isin(['In Service','Dismantled / Active Lease'])) &\\\n",
        "                                       (towerdb['towerdb owner']=='Wind')][tw_index]]\n",
        "print(len(uip_wh_legacy_sites))\n",
        "legacies_wh_not_active_or_dismantled = [i for i in uip_wh_legacy_sites if i not in actives_wh_sites]\n",
        "print(len(legacies_wh_not_active_or_dismantled))\n",
        "legacies_wh = pd.DataFrame(legacies_wh_not_active_or_dismantled, columns=['Legacies WH not Active'])\n",
        "vf_sites = towerdb[towerdb['towerdb owner']=='Wind'][[tw_index, tw_status]]\n",
        "legacies_wh = pd.merge(legacies_wh,vf_sites, how='left', left_on= 'Legacies WH not Active', right_on=tw_index)\n",
        "legacies_wh = legacies_wh.iloc[:, [0,2]]\n",
        "legacies_wh"
      ],
      "execution_count": null,
      "outputs": [
        {
          "output_type": "stream",
          "text": [
            "170\n",
            "0\n"
          ],
          "name": "stdout"
        },
        {
          "output_type": "execute_result",
          "data": {
            "text/html": [
              "<div>\n",
              "<style scoped>\n",
              "    .dataframe tbody tr th:only-of-type {\n",
              "        vertical-align: middle;\n",
              "    }\n",
              "\n",
              "    .dataframe tbody tr th {\n",
              "        vertical-align: top;\n",
              "    }\n",
              "\n",
              "    .dataframe thead th {\n",
              "        text-align: right;\n",
              "    }\n",
              "</style>\n",
              "<table border=\"1\" class=\"dataframe\">\n",
              "  <thead>\n",
              "    <tr style=\"text-align: right;\">\n",
              "      <th></th>\n",
              "      <th>Legacies WH not Active</th>\n",
              "      <th>other - status</th>\n",
              "    </tr>\n",
              "  </thead>\n",
              "  <tbody>\n",
              "  </tbody>\n",
              "</table>\n",
              "</div>"
            ],
            "text/plain": [
              "Empty DataFrame\n",
              "Columns: [Legacies WH not Active, other - status]\n",
              "Index: []"
            ]
          },
          "metadata": {
            "tags": []
          },
          "execution_count": 97
        }
      ]
    },
    {
      "cell_type": "code",
      "metadata": {
        "colab": {
          "base_uri": "https://localhost:8080/"
        },
        "id": "EXCIqqr-XVeT",
        "outputId": "d97ee128-8ff9-4c78-9f81-0f6fb66bcbf2"
      },
      "source": [
        "towerdb[towerdb[tw_index]=='3513-1003513'][tw_status]"
      ],
      "execution_count": null,
      "outputs": [
        {
          "output_type": "execute_result",
          "data": {
            "text/plain": [
              "1312    Out Of Service / Active Lease\n",
              "Name: other - status, dtype: object"
            ]
          },
          "metadata": {
            "tags": []
          },
          "execution_count": 85
        }
      ]
    },
    {
      "cell_type": "code",
      "metadata": {
        "id": "KdE1B5fvXKrL"
      },
      "source": [
        "uip_wh_legacy_sites"
      ],
      "execution_count": null,
      "outputs": []
    },
    {
      "cell_type": "code",
      "metadata": {
        "id": "cecrBfijHntZ"
      },
      "source": [
        "def general_log_erros(df_list, path):\n",
        "    writer = pd.ExcelWriter(path,engine='openpyxl')  \n",
        "    for lista in df_list:\n",
        "        try:\n",
        "            if not lista[1].empty:\n",
        "                lista[1].to_excel(writer, sheet_name=lista[0])\n",
        "        except:\n",
        "            if lista[1] is not None and lista[1].is_valid():\n",
        "                lista[1].to_excel(writer, sheet_name=lista[0])\n",
        "\n",
        "    writer.save() \n",
        "\n",
        "log_dfs = [['Bill Dates Errors', df_dates_bill_errors], \n",
        "['DOER Dates Errors', df_dates_doer_errors], \n",
        "['General Picklist Errors', df_picklist_general],\n",
        "['Actives Picklist Errors', df_picklist],\n",
        "['Month BTS Check', df_mom_bts],\n",
        "['Month Decomissioned Check', df_mom_decom],\n",
        "['VF - New Sites',new_sites_vf],\n",
        "['VF - Demerged Date Error', df_bts_demerged_vf],\n",
        "['WH - New Sites', new_siteswh],\n",
        "['WH - Demerged Date Error', bts_sites_out_uis_wh],\n",
        "['VF - DOER Dates Erros', df_doer_vf_on],\n",
        "['WH - DOER Dates Erros', df_doer_wh_on],\n",
        "['VF - DOER Plann Dates Error', df_doer_vf_plann],\n",
        "['WH - DOER Plann Dates Error', df_doer_wh_plann],\n",
        "['VF - Decom Dates Errors', df_doer_vf],\n",
        "['WH - Decom Dates Errors', df_doer_wh],\n",
        "['VF(UIS not active in Twdb)', in_service_uip_sites_vf],\n",
        "['VF(twdb Sites out UIS)' , in_service_not_in_uis_vf],\n",
        "['VF(Decom sites in UIS)' , decomiss_sites_in_uip_vf],\n",
        "['VF(BTS\\'s out UIS File)', bts_sites_out_uip_vf],\n",
        "['VF(Critical out UIS)', critical_vf],\n",
        "['WH(UIS not active in Twdb)', uis_sites_not_in_towerdbwh],\n",
        "['WH(twdb Sites out UIS)' , in_service_not_in_uiswh],\n",
        "['WH(Decom sites in UIS)' , decomiss_sites_in_uiswh],\n",
        "['WH(BTS\\'s out UIS File)', bts_sites_out_uipwh],\n",
        "['WH(Critical out UIS)', critical_wh],\n",
        "['Legacies VF not Active', legacies_vf],\n",
        "['Legacies WH not Active', legacies_wh]]\n",
        "\n",
        "path_log = '/content/GR_TWDB_ERRORS.xlsx'\n",
        "general_log_erros(log_dfs, path_log)\n",
        "\n"
      ],
      "execution_count": null,
      "outputs": []
    },
    {
      "cell_type": "code",
      "metadata": {
        "id": "91g-sRUVFDIp"
      },
      "source": [
        "df_tw = [df_dates_doer_errors, df_picklist_general, bts_sites_out_uis_v, bts_sites_out_uis_wh]\n",
        "sheetnames_tw = ['DOER Dates_Errors', 'Picklist Invalid Value General', 'VF_BTS_OUT_UIS', 'WH_BTS_OUT_UIS']\n",
        "\n",
        "path_tw = '/content/TWDB_GR_In-Month_Errors_20210803.xlsx'\n",
        "general_log_erros(df_tw, sheetnames_tw, path_tw)"
      ],
      "execution_count": null,
      "outputs": []
    }
  ]
}